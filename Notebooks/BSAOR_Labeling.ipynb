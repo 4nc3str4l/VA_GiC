{
 "metadata": {
  "name": "",
  "signature": "sha256:fae7b233c123cf6077f84cc00e92af803eef4fc6667e51be00aab05f6fb5712c"
 },
 "nbformat": 3,
 "nbformat_minor": 0,
 "worksheets": [
  {
   "cells": [
    {
     "cell_type": "markdown",
     "metadata": {},
     "source": [
      "Variables and loading\n",
      "---------------------"
     ]
    },
    {
     "cell_type": "code",
     "collapsed": false,
     "input": [
      "from os import listdir\n",
      "from os.path import isdir, join, isfile, isdir\n",
      "import matplotlib.pyplot as plt\n",
      "%matplotlib inline\n",
      "\n",
      "caffe_root = '/home/guillem/Github/caffe/'\n",
      "\n",
      "data = {\n",
      "    'in':  '/home/guillem/Github/VA_GiC/Database/images/',\n",
      "    'out': caffe_root + 'data/bsaor/'\n",
      "}\n",
      "\n",
      "load = {\n",
      "    'iter':   '20000',\n",
      "    'deploy': caffe_root + 'models/bsaor/bsaor_deploy.txt',\n",
      "    'output': caffe_root + 'models/bsaor/output.txt'\n",
      "}\n",
      "\n",
      "try:\n",
      "    fwrite1 = open(data['out'] + 'train-images.txt','w')\n",
      "    fwrite2 = open(data['out'] + 'test-images.txt','w')\n",
      "except Exception as ex:\n",
      "    print ex"
     ],
     "language": "python",
     "metadata": {},
     "outputs": [],
     "prompt_number": 14
    },
    {
     "cell_type": "markdown",
     "metadata": {},
     "source": [
      "Labeling: Faces(0), Suitcase(1), Black(2), Animals(3)\n",
      "--------"
     ]
    },
    {
     "cell_type": "code",
     "collapsed": false,
     "input": [
      "classes = {'Face': 0, 'Suitcase': 1, 'Black': 2, 'Animal': 3}\n",
      "\n",
      "try:\n",
      "    f = None\n",
      "    \n",
      "    for folder,label in classes.iteritems():\n",
      "        print \"Parsing %s (%d)\" % (folder,label)\n",
      "        folder = join(data['in'], folder)\n",
      "        \n",
      "        subfolders = [join(folder, f) for f in listdir(folder) if isdir(join(folder, f)) and f != \".\" and f != \"..\"]\n",
      "        cont=0\n",
      "        train=0\n",
      "        for s in subfolders:\n",
      "            onlyfiles = [join(s, f) for f in listdir(s) if isfile(join(s,f)) ]\n",
      "                    \n",
      "            for f in onlyfiles:\n",
      "                if(cont % 10):\n",
      "                    fwrite1.write(\"%s %d\\n\" % (f,label))\n",
      "                    train = train + 1\n",
      "                else:\n",
      "                    fwrite2.write(\"%s %d\\n\" % (f,label))\n",
      "        \n",
      "                cont=cont+1\n",
      "                \n",
      "        onlyfiles = [join(folder, f) for f in listdir(folder) if isfile(join(folder,f)) ]\n",
      "        for f in onlyfiles:\n",
      "            if(cont % 10):\n",
      "                fwrite1.write(\"%s %d\\n\" % (f,label))\n",
      "                train = train + 1\n",
      "            else:\n",
      "                fwrite2.write(\"%s %d\\n\" % (f,label))\n",
      "\n",
      "            cont=cont+1\n",
      "                \n",
      "        print \"\\tTrain images %d of total parsed %d images\" % (train, cont, )\n",
      "    \n",
      "    fwrite1.close()\n",
      "    fwrite2.close()\n",
      "except Exception as err:\n",
      "    print err, folder, f"
     ],
     "language": "python",
     "metadata": {},
     "outputs": [
      {
       "output_type": "stream",
       "stream": "stdout",
       "text": [
        "Parsing Suitcase (1)\n",
        "\tTrain images 940 of total parsed 1045 images\n",
        "Parsing Black (2)\n",
        "\tTrain images 340 of total parsed 378 images\n",
        "Parsing Animal (3)\n",
        "\tTrain images 440 of total parsed 489 images\n",
        "Parsing Face (0)\n",
        "\tTrain images 11909 of total parsed 13233 images"
       ]
      },
      {
       "output_type": "stream",
       "stream": "stdout",
       "text": [
        "\n"
       ]
      }
     ],
     "prompt_number": 9
    },
    {
     "cell_type": "markdown",
     "metadata": {},
     "source": [
      "Plot LOSS and ACCURACY\n",
      "---------------------"
     ]
    },
    {
     "cell_type": "code",
     "collapsed": false,
     "input": [
      "tloss, loss, acc = [],[],[]\n",
      "\n",
      "with open(load['output']) as f:\n",
      "    for line in f:\n",
      "        idx = line.find('accuracy = ')\n",
      "        \n",
      "        if idx > 0:\n",
      "            acc.append(100.0 * float(line[idx + 11:]))\n",
      "        \n",
      "        idx = line.find('0, loss = ')\n",
      "        \n",
      "        if idx > 0:\n",
      "            idx2 = line.find('(*')\n",
      "            loss.append(float(line[idx + 9:idx2-1]))\n",
      "        \n",
      "        idx = line.find('1: loss = ')\n",
      "        \n",
      "        if idx > 0:\n",
      "            idx2 = line.find('(*')\n",
      "            tloss.append(float(line[idx + 10:idx2-1]))\n",
      "\n",
      "if len(loss) > 1 and len(acc) > 1:\n",
      "    f, axarr = plt.subplots(1, 2)\n",
      "    f.set_size_inches(16,3)\n",
      "\n",
      "    axarr[0].plot(loss)\n",
      "    axarr[0].set_title('LOSS')\n",
      "    axarr[0].set_xlabel('Num Iterations x 100')\n",
      "    axarr[0].set_ylabel('loss')\n",
      "    axarr[0].set_ylim((min(loss), max(loss[1:])))\n",
      "    axarr[0].yaxis.grid()\n",
      "\n",
      "    axarr[1].set_title('Test LOSS')\n",
      "    axarr[1].set_xlabel('Num Iterations x 1000')\n",
      "    axarr[1].set_ylabel('loss')\n",
      "    axarr[1].plot(tloss)\n",
      "    axarr[1].set_ylim((min(tloss), max(tloss[:])))\n",
      "    axarr[1].yaxis.grid()\n",
      "\n",
      "    f, axarr = plt.subplots(1)\n",
      "    f.set_size_inches(16,3)\n",
      "    axarr.plot(acc)\n",
      "    axarr.set_title('Accuracy %')\n",
      "    axarr.set_xlabel('Num Iterations x 1000')\n",
      "    axarr.set_ylabel('% Accuracy')\n",
      "    axarr.set_ylim((0, 100))\n",
      "    axarr.xaxis.grid()\n",
      "\n",
      "print \"Train loss (min, max) = (%.4f, %.4f)\" % (min(loss), max(loss))\n",
      "print \"Test loss (min, max) = (%.4f, %.4f)\" % (min(tloss), max(tloss))\n",
      "print \"Accuracy (max, last) = (%.4f, %.4f)\" % (max(acc), acc[-1])"
     ],
     "language": "python",
     "metadata": {},
     "outputs": [
      {
       "output_type": "stream",
       "stream": "stdout",
       "text": [
        "Train loss (min, max) = (0.0002, 6.5684)\n",
        "Test loss (min, max) = (0.0244, 2.0711)\n",
        "Accuracy (max, last) = (99.2000, 99.0000)\n"
       ]
      },
      {
       "metadata": {},
       "output_type": "display_data",
       "png": "[encoded data removed]",
       "text": [
        "<matplotlib.figure.Figure at 0x7f79b6a4bed0>"
       ]
      },
      {
       "metadata": {},
       "output_type": "display_data",
       "png": "[encoded data removed]",
       "text": [
        "<matplotlib.figure.Figure at 0x7f79b694fb90>"
       ]
      }
     ],
     "prompt_number": 67
    }
   ],
   "metadata": {}
  }
 ]
}