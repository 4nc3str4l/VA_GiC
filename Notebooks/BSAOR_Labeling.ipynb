{
 "metadata": {
  "name": "",
  "signature": "sha256:771cca4b3df4b47d522ef3b16f812acbf01e537a3b7a925f3346a0fc42cae2e9"
 },
 "nbformat": 3,
 "nbformat_minor": 0,
 "worksheets": [
  {
   "cells": [
    {
     "cell_type": "markdown",
     "metadata": {},
     "source": [
      "Variables and loading\n",
      "---------------------"
     ]
    },
    {
     "cell_type": "code",
     "collapsed": false,
     "input": [
      "from os import listdir\n",
      "from os.path import isdir, join, isfile, isdir\n",
      "import numpy as np\n",
      "import matplotlib.pyplot as plt\n",
      "%matplotlib inline\n",
      "\n",
      "caffe_root = '/home/guillem/Github/caffe/'\n",
      "root = '/home/guillem/Github/VA_GiC/'\n",
      "\n",
      "data = {\n",
      "    'in':  root + 'Database/images/',\n",
      "    'out': root + 'data/bsaor/'\n",
      "}\n",
      "\n",
      "load = {\n",
      "    'iter':   '20000',\n",
      "    'deploy': root + 'models/bsaor/bsaor_deploy.txt',\n",
      "    'output': root + 'models/bsaor/output.txt'\n",
      "}\n",
      "\n",
      "try:\n",
      "    fwrite1 = open(data['out'] + 'train-images.txt','w')\n",
      "    fwrite2 = open(data['out'] + 'test-images.txt','w')\n",
      "except Exception as ex:\n",
      "    print ex"
     ],
     "language": "python",
     "metadata": {},
     "outputs": [],
     "prompt_number": 85
    },
    {
     "cell_type": "markdown",
     "metadata": {},
     "source": [
      "Labeling\n",
      "--------\n",
      "\n",
      "0. Face\n",
      "1. Suitcase\n",
      "2. Black\n",
      "3. Blue\n",
      "4. Gray\n",
      "5. Yellow\n",
      "6. Skin\n",
      "7. Purple"
     ]
    },
    {
     "cell_type": "code",
     "collapsed": false,
     "input": [
      "classes = {'Face': 0, 'Suitcase': 1, 'Black': 2, 'Blue': 3, 'Gray': 4, 'Yellow': 5, 'Skin': 6, 'Purple': 7}\n",
      "\n",
      "try:\n",
      "    f = None\n",
      "    \n",
      "    for folder,label in classes.iteritems():\n",
      "        print \"Parsing %s (%d)\" % (folder,label)\n",
      "        folder = join(data['in'], folder)\n",
      "        \n",
      "        subfolders = [join(folder, f) for f in listdir(folder) if isdir(join(folder, f)) and f != \".\" and f != \"..\"]\n",
      "        cont=0\n",
      "        train=0\n",
      "        for s in subfolders:\n",
      "            onlyfiles = [join(s, f) for f in listdir(s) if isfile(join(s,f)) ]\n",
      "                    \n",
      "            for f in onlyfiles:\n",
      "                if(cont % 10):\n",
      "                    fwrite1.write(\"%s %d\\n\" % (f,label))\n",
      "                    train = train + 1\n",
      "                else:\n",
      "                    fwrite2.write(\"%s %d\\n\" % (f,label))\n",
      "        \n",
      "                cont=cont+1\n",
      "                \n",
      "        onlyfiles = [join(folder, f) for f in listdir(folder) if isfile(join(folder,f)) ]\n",
      "        for f in onlyfiles:\n",
      "            if(cont % 10):\n",
      "                fwrite1.write(\"%s %d\\n\" % (f,label))\n",
      "                train = train + 1\n",
      "            else:\n",
      "                fwrite2.write(\"%s %d\\n\" % (f,label))\n",
      "\n",
      "            cont=cont+1\n",
      "                \n",
      "        print \"\\tTrain images %d of total parsed %d images\" % (train, cont, )\n",
      "    \n",
      "    fwrite1.close()\n",
      "    fwrite2.close()\n",
      "except Exception as err:\n",
      "    print err, folder, f"
     ],
     "language": "python",
     "metadata": {},
     "outputs": [
      {
       "output_type": "stream",
       "stream": "stdout",
       "text": [
        "Parsing Blue (3)\n",
        "\tTrain images 463 of total parsed 515 images\n",
        "Parsing Gray (4)\n",
        "\tTrain images 388 of total parsed 432 images\n",
        "Parsing Black (2)\n",
        "\tTrain images 342 of total parsed 381 images\n",
        "Parsing Suitcase (1)\n",
        "\tTrain images 783 of total parsed 870 images\n",
        "Parsing Purple (7)\n",
        "\tTrain images 143 of total parsed 159 images\n",
        "Parsing Skin (6)\n",
        "\tTrain images 138 of total parsed 154 images\n",
        "Parsing Yellow (5)\n",
        "\tTrain images 39 of total parsed 44 images\n",
        "Parsing Face (0)\n",
        "\tTrain images 11909 of total parsed 13233 images"
       ]
      },
      {
       "output_type": "stream",
       "stream": "stdout",
       "text": [
        "\n"
       ]
      }
     ],
     "prompt_number": 86
    },
    {
     "cell_type": "markdown",
     "metadata": {},
     "source": [
      "Plot LOSS and ACCURACY\n",
      "---------------------"
     ]
    },
    {
     "cell_type": "code",
     "collapsed": false,
     "input": [
      "tloss, loss, acc = [],[],[]\n",
      "\n",
      "with open(load['output']) as f:\n",
      "    for line in f:\n",
      "        idx = line.find('#0: accuracy = ')\n",
      "        \n",
      "        if idx > 0:\n",
      "            acc.append(100.0 * float(line[idx + 15:]))\n",
      "        \n",
      "        idx = line.find('0, loss = ')\n",
      "        \n",
      "        if idx > 0:\n",
      "            idx2 = line.find('(*')\n",
      "            loss.append(float(line[idx + 9:idx2]))\n",
      "        \n",
      "        idx = line.find('1: loss = ')\n",
      "        \n",
      "        if idx > 0:\n",
      "            idx2 = line.find('(*')\n",
      "            tloss.append(float(line[idx + 10:idx2]))\n",
      "\n",
      "if len(loss) > 1 and len(acc) > 1:\n",
      "    f, axarr = plt.subplots(1, 2)\n",
      "    f.set_size_inches(16,3)\n",
      "\n",
      "    axarr[0].plot(loss)\n",
      "    axarr[0].set_title('LOSS')\n",
      "    axarr[0].set_xlabel('Num Iterations x 100')\n",
      "    axarr[0].set_ylabel('loss')\n",
      "    axarr[0].set_ylim((min(loss), max(loss[1:])))\n",
      "    axarr[0].yaxis.grid()\n",
      "\n",
      "    axarr[1].set_title('Test LOSS')\n",
      "    axarr[1].set_xlabel('Num Iterations x 1000')\n",
      "    axarr[1].set_ylabel('loss')\n",
      "    axarr[1].plot(tloss)\n",
      "    axarr[1].set_ylim((min(tloss), max(tloss)))\n",
      "    axarr[1].yaxis.grid()\n",
      "\n",
      "    f, axarr = plt.subplots(1, 2)\n",
      "    f.set_size_inches(16,3)\n",
      "    \n",
      "    axarr[0].plot(acc)\n",
      "    axarr[0].set_title('Accuracy [0-100] %')\n",
      "    axarr[0].set_xlabel('Num Iterations x 500')\n",
      "    axarr[0].set_ylabel('% Accuracy')\n",
      "    axarr[0].set_ylim((0, 100))\n",
      "    axarr[0].xaxis.grid()\n",
      "    \n",
      "    axarr[1].plot(acc)\n",
      "    axarr[1].set_title('Accuracy [98-100] %')\n",
      "    axarr[1].set_xlabel('Num Iterations x 500')\n",
      "    axarr[1].set_ylabel('% Accuracy')\n",
      "    axarr[1].set_ylim((98, 100))\n",
      "    axarr[1].yaxis.set_ticks(np.arange(98, 100.1, 0.2))\n",
      "    axarr[1].xaxis.grid()\n",
      "    axarr[1].yaxis.grid()\n",
      "\n",
      "print \"Train loss (min, max, last) = (%.4f, %.4f, %.4f)\" % (min(loss), max(loss), loss[-1])\n",
      "print \"Test loss (min, max, last) = (%.4f, %.4f, %.4f)\" % (min(tloss), max(tloss), tloss[-1])\n",
      "print \"Accuracy (min, max, last) = (%.4f, %.4f, %.4f)\" % (min(acc), max(acc), acc[-1])"
     ],
     "language": "python",
     "metadata": {},
     "outputs": [
      {
       "output_type": "stream",
       "stream": "stdout",
       "text": [
        "Train loss (min, max, last) = (0.0411, 2.3499, 0.0411)\n",
        "Test loss (min, max, last) = (2.1570, 2.1570, 2.1570)\n",
        "Accuracy (min, max, last) = (4.8000, 4.8000, 4.8000)\n"
       ]
      }
     ],
     "prompt_number": 91
    },
    {
     "cell_type": "code",
     "collapsed": false,
     "input": [],
     "language": "python",
     "metadata": {},
     "outputs": []
    }
   ],
   "metadata": {}
  }
 ]
}