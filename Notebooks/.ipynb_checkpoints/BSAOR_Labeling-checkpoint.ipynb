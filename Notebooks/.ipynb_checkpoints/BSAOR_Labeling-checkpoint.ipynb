{
 "metadata": {
  "name": "",
  "signature": "sha256:21d4ddbb9038c17ca7314b8f411773cd36efc58654161f820e11975a516b5542"
 },
 "nbformat": 3,
 "nbformat_minor": 0,
 "worksheets": [
  {
   "cells": [
    {
     "cell_type": "markdown",
     "metadata": {},
     "source": [
      "Variables and loading\n",
      "---------------------"
     ]
    },
    {
     "cell_type": "code",
     "collapsed": false,
     "input": [
      "from os import listdir\n",
      "from os.path import isdir, join, isfile, isdir\n",
      "import matplotlib.pyplot as plt\n",
      "%matplotlib inline\n",
      "\n",
      "caffe_root = '/home/guillem/UB/Caffe/'\n",
      "\n",
      "data = {\n",
      "    'in':  caffe_root + 'data/bsaor/',\n",
      "    'out': caffe_root + 'data/bsaor/'\n",
      "}\n",
      "\n",
      "load = {\n",
      "    'iter':   '20000',\n",
      "    'deploy': caffe_root + 'model/bsaor/bsaor_deploy.txt',\n",
      "    'output': caffe_root + 'examples/bsaor/output.txt'\n",
      "}\n",
      "\n",
      "try:\n",
      "    fwrite1 = open(data['out'] + 'train-images.txt','w')\n",
      "    fwrite2 = open(data['out'] + 'test-images.txt','w')\n",
      "except Exception as ex:\n",
      "    print ex"
     ],
     "language": "python",
     "metadata": {},
     "outputs": [],
     "prompt_number": 2
    },
    {
     "cell_type": "markdown",
     "metadata": {},
     "source": [
      "Labeling: Faces(0), Suitcase(1), Random(2)\n",
      "--------"
     ]
    },
    {
     "cell_type": "code",
     "collapsed": false,
     "input": [
      "classes = {'Face': 0, 'Suitcase': 1, 'Random': 2}\n",
      "\n",
      "try:\n",
      "    f = None\n",
      "    \n",
      "    for folder,label in classes.iteritems():\n",
      "        print \"Parsing %s\" % (folder,)\n",
      "        folder = join(data['in'], folder)\n",
      "        \n",
      "        subfolders = [join(folder, f) for f in listdir(folder) if isdir(join(folder, f)) and f != \".\" and f != \"..\"]\n",
      "        cont=0\n",
      "        train=0\n",
      "        for s in subfolders:\n",
      "            onlyfiles = [join(s, f) for f in listdir(s) if isfile(join(s,f)) ]\n",
      "                    \n",
      "            for f in onlyfiles:\n",
      "                if(cont % 10):\n",
      "                    fwrite1.write(\"%s %d\\n\" % (f,label))\n",
      "                    train = train + 1\n",
      "                else:\n",
      "                    fwrite2.write(\"%s %d\\n\" % (f,label))\n",
      "        \n",
      "                cont=cont+1\n",
      "                \n",
      "        onlyfiles = [join(folder, f) for f in listdir(folder) if isfile(join(folder,f)) ]\n",
      "        for f in onlyfiles:\n",
      "            if(cont % 10):\n",
      "                fwrite1.write(\"%s %d\\n\" % (f,label))\n",
      "                train = train + 1\n",
      "            else:\n",
      "                fwrite2.write(\"%s %d\\n\" % (f,label))\n",
      "\n",
      "            cont=cont+1\n",
      "                \n",
      "        print \"\\tTrain images %d of total parsed %d images\" % (train, cont, )\n",
      "    \n",
      "    fwrite1.close()\n",
      "    fwrite2.close()\n",
      "except Exception as err:\n",
      "    print err, folder, f"
     ],
     "language": "python",
     "metadata": {},
     "outputs": [
      {
       "output_type": "stream",
       "stream": "stdout",
       "text": [
        "Parsing Suitcase\n",
        "\tTrain images 2674 of total parsed 2972 images"
       ]
      },
      {
       "output_type": "stream",
       "stream": "stdout",
       "text": [
        "\n",
        "Parsing Random\n",
        "\tTrain images 8062 of total parsed 8958 images"
       ]
      },
      {
       "output_type": "stream",
       "stream": "stdout",
       "text": [
        "\n",
        "Parsing Face\n",
        "\tTrain images 11909 of total parsed 13233 images"
       ]
      },
      {
       "output_type": "stream",
       "stream": "stdout",
       "text": [
        "\n"
       ]
      }
     ],
     "prompt_number": 3
    },
    {
     "cell_type": "markdown",
     "metadata": {},
     "source": [
      "Plot LOSS and ACCURACY\n",
      "---------------------"
     ]
    },
    {
     "cell_type": "code",
     "collapsed": false,
     "input": [
      "loss, acc = [],[]\n",
      "\n",
      "with open(load['deploy']) as f:\n",
      "    for line in f:\n",
      "        idx = line.find('accuracy = ')\n",
      "        \n",
      "        if idx > 0:\n",
      "            acc.append(100.0 * float(line[index + 11:]))\n",
      "        \n",
      "        idx = line.find('0, loss = ')\n",
      "        \n",
      "        if idx > 0:\n",
      "            loss.append(float(line[index + 9:]))\n",
      "\n",
      "if len(loss) > 1 and len(acc) > 1:\n",
      "    f, axarr = plt.subplots(1, 2)\n",
      "    f.set_size_inches(16,3)\n",
      "\n",
      "    axarr[0].plot(loss)\n",
      "    axarr[0].set_title('LOSS')\n",
      "    axarr[0].set_xlabel('Num Iterations x 100')\n",
      "    axarr[0].set_ylabel('loss')\n",
      "    axarr[0].set_ylim((min(loss), max(loss[1:])))\n",
      "    axarr[0].yaxis.grid()\n",
      "\n",
      "    axarr[1].plot(acc)\n",
      "    axarr[1].set_title('Accuracy %')\n",
      "    axarr[1].set_xlabel('Num Iterations x 1000')\n",
      "    axarr[1].set_ylabel('% Accuracy')\n",
      "    axarr[1].set_ylim((0, max(acc)))\n",
      "    axarr[1].xaxis.grid()"
     ],
     "language": "python",
     "metadata": {},
     "outputs": [
      {
       "ename": "IOError",
       "evalue": "[Errno 2] No such file or directory: '/home/guillem/UB/Caffe/model/bsaor/bsaor_deploy.txt'",
       "output_type": "pyerr",
       "traceback": [
        "\u001b[1;31m---------------------------------------------------------------------------\u001b[0m\n\u001b[1;31mIOError\u001b[0m                                   Traceback (most recent call last)",
        "\u001b[1;32m<ipython-input-25-2f18819f369a>\u001b[0m in \u001b[0;36m<module>\u001b[1;34m()\u001b[0m\n\u001b[0;32m      1\u001b[0m \u001b[0mloss\u001b[0m\u001b[1;33m,\u001b[0m \u001b[0macc\u001b[0m \u001b[1;33m=\u001b[0m \u001b[1;33m[\u001b[0m\u001b[1;33m]\u001b[0m\u001b[1;33m,\u001b[0m\u001b[1;33m[\u001b[0m\u001b[1;33m]\u001b[0m\u001b[1;33m\u001b[0m\u001b[0m\n\u001b[0;32m      2\u001b[0m \u001b[1;33m\u001b[0m\u001b[0m\n\u001b[1;32m----> 3\u001b[1;33m \u001b[1;32mwith\u001b[0m \u001b[0mopen\u001b[0m\u001b[1;33m(\u001b[0m\u001b[0mload\u001b[0m\u001b[1;33m[\u001b[0m\u001b[1;34m'deploy'\u001b[0m\u001b[1;33m]\u001b[0m\u001b[1;33m)\u001b[0m \u001b[1;32mas\u001b[0m \u001b[0mf\u001b[0m\u001b[1;33m:\u001b[0m\u001b[1;33m\u001b[0m\u001b[0m\n\u001b[0m\u001b[0;32m      4\u001b[0m     \u001b[1;32mfor\u001b[0m \u001b[0mline\u001b[0m \u001b[1;32min\u001b[0m \u001b[0mf\u001b[0m\u001b[1;33m:\u001b[0m\u001b[1;33m\u001b[0m\u001b[0m\n\u001b[0;32m      5\u001b[0m         \u001b[0midx\u001b[0m \u001b[1;33m=\u001b[0m \u001b[0mline\u001b[0m\u001b[1;33m.\u001b[0m\u001b[0mfind\u001b[0m\u001b[1;33m(\u001b[0m\u001b[1;34m'accuracy = '\u001b[0m\u001b[1;33m)\u001b[0m\u001b[1;33m\u001b[0m\u001b[0m\n",
        "\u001b[1;31mIOError\u001b[0m: [Errno 2] No such file or directory: '/home/guillem/UB/Caffe/model/bsaor/bsaor_deploy.txt'"
       ]
      }
     ],
     "prompt_number": 25
    }
   ],
   "metadata": {}
  }
 ]
}